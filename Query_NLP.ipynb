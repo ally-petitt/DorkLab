{
 "cells": [
  {
   "cell_type": "code",
   "execution_count": 1,
   "id": "853331b0",
   "metadata": {},
   "outputs": [],
   "source": [
    "from modules.build_substring import NERDString"
   ]
  },
  {
   "cell_type": "code",
   "execution_count": 2,
   "id": "4a7e6807",
   "metadata": {},
   "outputs": [],
   "source": [
    "ns = NERDString('Create a search for the scientist Ryan Willett who attended Columbia University after 2003-02-11 and before 2012 on www.brandeis.edu')"
   ]
  },
  {
   "cell_type": "code",
   "execution_count": 3,
   "id": "69074772",
   "metadata": {},
   "outputs": [
    {
     "data": {
      "text/plain": [
       "Create a search for the scientist Ryan Willett who attended Columbia University after 2003-02-11 and before 2012 on www.brandeis.edu"
      ]
     },
     "execution_count": 3,
     "metadata": {},
     "output_type": "execute_result"
    }
   ],
   "source": [
    "ns.doc"
   ]
  },
  {
   "cell_type": "code",
   "execution_count": 4,
   "id": "ce2b66cc",
   "metadata": {},
   "outputs": [
    {
     "data": {
      "text/html": [
       "<div>\n",
       "<style scoped>\n",
       "    .dataframe tbody tr th:only-of-type {\n",
       "        vertical-align: middle;\n",
       "    }\n",
       "\n",
       "    .dataframe tbody tr th {\n",
       "        vertical-align: top;\n",
       "    }\n",
       "\n",
       "    .dataframe thead th {\n",
       "        text-align: right;\n",
       "    }\n",
       "</style>\n",
       "<table border=\"1\" class=\"dataframe\">\n",
       "  <thead>\n",
       "    <tr style=\"text-align: right;\">\n",
       "      <th></th>\n",
       "      <th>name</th>\n",
       "      <th>entity</th>\n",
       "    </tr>\n",
       "  </thead>\n",
       "  <tbody>\n",
       "    <tr>\n",
       "      <th>0</th>\n",
       "      <td>Ryan Willett</td>\n",
       "      <td>PERSON</td>\n",
       "    </tr>\n",
       "    <tr>\n",
       "      <th>1</th>\n",
       "      <td>Columbia University</td>\n",
       "      <td>ORG</td>\n",
       "    </tr>\n",
       "    <tr>\n",
       "      <th>2</th>\n",
       "      <td>2003-02-11</td>\n",
       "      <td>DATE</td>\n",
       "    </tr>\n",
       "    <tr>\n",
       "      <th>3</th>\n",
       "      <td>2012</td>\n",
       "      <td>DATE</td>\n",
       "    </tr>\n",
       "  </tbody>\n",
       "</table>\n",
       "</div>"
      ],
      "text/plain": [
       "                  name  entity\n",
       "0         Ryan Willett  PERSON\n",
       "1  Columbia University     ORG\n",
       "2           2003-02-11    DATE\n",
       "3                 2012    DATE"
      ]
     },
     "execution_count": 4,
     "metadata": {},
     "output_type": "execute_result"
    }
   ],
   "source": [
    "ns.entities"
   ]
  },
  {
   "cell_type": "code",
   "execution_count": 5,
   "id": "4da94065",
   "metadata": {},
   "outputs": [
    {
     "data": {
      "text/plain": [
       "{'persons': ['Ryan Willett'],\n",
       " 'orgs': ['Columbia University'],\n",
       " 'min_date': '2003-02-11',\n",
       " 'max_date': '2012-01-01',\n",
       " 'urls': ['www.brandeis.edu']}"
      ]
     },
     "execution_count": 5,
     "metadata": {},
     "output_type": "execute_result"
    }
   ],
   "source": [
    "ns.data"
   ]
  },
  {
   "cell_type": "code",
   "execution_count": 109,
   "id": "eec5bc4b",
   "metadata": {},
   "outputs": [
    {
     "data": {
      "text/plain": [
       "'Create a search for the scientist Ryan Willett who attended Columbia University after 2003-02-11 and before 2012 on www.brandeis.edu'"
      ]
     },
     "execution_count": 109,
     "metadata": {},
     "output_type": "execute_result"
    }
   ],
   "source": [
    "ns.text"
   ]
  },
  {
   "cell_type": "code",
   "execution_count": 110,
   "id": "b040064a",
   "metadata": {},
   "outputs": [
    {
     "name": "stdout",
     "output_type": "stream",
     "text": [
      "Min date: 2003-02-11\n",
      "Max date: 2012-01-01\n"
     ]
    }
   ],
   "source": [
    "print(extract_date(ns))"
   ]
  },
  {
   "cell_type": "code",
   "execution_count": 111,
   "id": "e4d4c1ca",
   "metadata": {},
   "outputs": [],
   "source": [
    "urls = 'Ryan Willett Columbia University ryan.willett@gmail.com www.google.com.  www.columbia.edu  rtwillett.github.io'.lower()"
   ]
  },
  {
   "cell_type": "code",
   "execution_count": null,
   "id": "5160992b",
   "metadata": {},
   "outputs": [],
   "source": []
  },
  {
   "cell_type": "code",
   "execution_count": 92,
   "id": "9f42d2b8",
   "metadata": {},
   "outputs": [],
   "source": [
    "# with open('./data/ip_domains.txt', mode='r') as f: \n",
    "#     data_raw = f.read()\n",
    "#     data = data_raw.split('\\n')"
   ]
  },
  {
   "cell_type": "code",
   "execution_count": 93,
   "id": "836aa034",
   "metadata": {},
   "outputs": [],
   "source": [
    "# [d.lower() for d in data if '#' not in d]"
   ]
  },
  {
   "cell_type": "code",
   "execution_count": 97,
   "id": "b6ecb9c4",
   "metadata": {},
   "outputs": [
    {
     "data": {
      "text/plain": [
       "['www.google.com.', 'www.columbia.edu', 'rtwillett.github.io']"
      ]
     },
     "execution_count": 97,
     "metadata": {},
     "output_type": "execute_result"
    }
   ],
   "source": [
    "import re\n",
    "url_pat = [i for i in urls.split() if ('.' in i) and ('@' not in i)]\n",
    "\n",
    "# [i for i in re.findall('[a-z0-9-_.]{1,}', url_pat) if re.search('[.]', i)]\n",
    "url_pat"
   ]
  },
  {
   "cell_type": "code",
   "execution_count": null,
   "id": "1d6f0cdf",
   "metadata": {},
   "outputs": [],
   "source": []
  },
  {
   "cell_type": "code",
   "execution_count": null,
   "id": "c5d62f5e",
   "metadata": {},
   "outputs": [],
   "source": [
    "ns.ner_extracts"
   ]
  },
  {
   "cell_type": "code",
   "execution_count": null,
   "id": "076dc249",
   "metadata": {},
   "outputs": [],
   "source": [
    "ns.ner_extracts['PERSON']"
   ]
  },
  {
   "cell_type": "code",
   "execution_count": null,
   "id": "675afd20",
   "metadata": {},
   "outputs": [],
   "source": []
  }
 ],
 "metadata": {
  "kernelspec": {
   "display_name": "Python 3",
   "language": "python",
   "name": "python3"
  },
  "language_info": {
   "codemirror_mode": {
    "name": "ipython",
    "version": 3
   },
   "file_extension": ".py",
   "mimetype": "text/x-python",
   "name": "python",
   "nbconvert_exporter": "python",
   "pygments_lexer": "ipython3",
   "version": "3.7.3"
  }
 },
 "nbformat": 4,
 "nbformat_minor": 5
}
