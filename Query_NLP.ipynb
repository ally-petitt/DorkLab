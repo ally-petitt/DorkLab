{
 "cells": [
  {
   "cell_type": "code",
   "execution_count": 12,
   "id": "e15ec375",
   "metadata": {},
   "outputs": [],
   "source": [
    "import numpy as np\n",
    "import pandas as pd\n",
    "import spacy\n",
    "nlp = spacy.load(\"en_core_web_lg\")"
   ]
  },
  {
   "cell_type": "code",
   "execution_count": 72,
   "id": "6b922992",
   "metadata": {},
   "outputs": [],
   "source": [
    "class NERDString:\n",
    "    \n",
    "    def __init__(self, text:str, nlp = nlp):\n",
    "        \n",
    "        # self.nlp = spacy.load(\"en_core_web_lg\")\n",
    "    \n",
    "        # text = text.upper()\n",
    "\n",
    "        self.nlp = nlp\n",
    "\n",
    "        self.doc = self.nlp(text)\n",
    "        \n",
    "        self.extract_ner()\n",
    "\n",
    "        self.ner_extracts = dict()\n",
    "#         for ent in self.entities.entity.unique():\n",
    "#             # print(ent)\n",
    "#             self.ner_extracts[ent] = self.summarize_entity_type(ent)\n",
    "            \n",
    "    def extract_ner(self):\n",
    "        ner_tuplist = []\n",
    "        for ent in self.doc.ents:\n",
    "            ner_tuplist.append((ent.text, ent.label_))\n",
    "            \n",
    "        self.entities = pd.DataFrame(ner_tuplist, columns = ['name', 'entity'])\n",
    "        \n",
    "    def summarize_entity_type(self, entity_type:str):\n",
    "        df_counts = pd.DataFrame(self.entities.loc[self.entities.entity == entity_type].groupby(['name', 'entity'])['name'].count())\n",
    "        # t.reset_index()\n",
    "        df_counts.columns = ['counts']\n",
    "        df_counts.reset_index()\n",
    "        df_counts = df_counts.sort_values('counts', ascending=False)\n",
    "        df_counts.reset_index(inplace=True)\n",
    "        df_counts.reset_index(drop=True, inplace=True)\n",
    "        return df_counts[['name', 'counts']]"
   ]
  },
  {
   "cell_type": "code",
   "execution_count": 73,
   "id": "ca44795f",
   "metadata": {},
   "outputs": [],
   "source": [
    "ns = NERDString('Create a search for the scientist Ryan Willett who attended Columbia University after 2003-02-11 and before 2012 on www.brandeis.edu')"
   ]
  },
  {
   "cell_type": "code",
   "execution_count": 74,
   "id": "9ae424ec",
   "metadata": {},
   "outputs": [
    {
     "data": {
      "text/plain": [
       "Create a search for the scientist Ryan Willett who attended Columbia University after 2003-02-11 and before 2012 on www.brandeis.edu"
      ]
     },
     "execution_count": 74,
     "metadata": {},
     "output_type": "execute_result"
    }
   ],
   "source": [
    "ns.doc"
   ]
  },
  {
   "cell_type": "code",
   "execution_count": 75,
   "id": "984b13ef",
   "metadata": {},
   "outputs": [
    {
     "data": {
      "text/html": [
       "<div>\n",
       "<style scoped>\n",
       "    .dataframe tbody tr th:only-of-type {\n",
       "        vertical-align: middle;\n",
       "    }\n",
       "\n",
       "    .dataframe tbody tr th {\n",
       "        vertical-align: top;\n",
       "    }\n",
       "\n",
       "    .dataframe thead th {\n",
       "        text-align: right;\n",
       "    }\n",
       "</style>\n",
       "<table border=\"1\" class=\"dataframe\">\n",
       "  <thead>\n",
       "    <tr style=\"text-align: right;\">\n",
       "      <th></th>\n",
       "      <th>name</th>\n",
       "      <th>entity</th>\n",
       "    </tr>\n",
       "  </thead>\n",
       "  <tbody>\n",
       "    <tr>\n",
       "      <th>0</th>\n",
       "      <td>Ryan Willett</td>\n",
       "      <td>PERSON</td>\n",
       "    </tr>\n",
       "    <tr>\n",
       "      <th>1</th>\n",
       "      <td>Columbia University</td>\n",
       "      <td>ORG</td>\n",
       "    </tr>\n",
       "    <tr>\n",
       "      <th>2</th>\n",
       "      <td>2003-02-11</td>\n",
       "      <td>DATE</td>\n",
       "    </tr>\n",
       "    <tr>\n",
       "      <th>3</th>\n",
       "      <td>2012</td>\n",
       "      <td>DATE</td>\n",
       "    </tr>\n",
       "  </tbody>\n",
       "</table>\n",
       "</div>"
      ],
      "text/plain": [
       "                  name  entity\n",
       "0         Ryan Willett  PERSON\n",
       "1  Columbia University     ORG\n",
       "2           2003-02-11    DATE\n",
       "3                 2012    DATE"
      ]
     },
     "execution_count": 75,
     "metadata": {},
     "output_type": "execute_result"
    }
   ],
   "source": [
    "ns.entities"
   ]
  },
  {
   "cell_type": "code",
   "execution_count": 76,
   "id": "dd7c4fde",
   "metadata": {},
   "outputs": [
    {
     "data": {
      "text/html": [
       "<div>\n",
       "<style scoped>\n",
       "    .dataframe tbody tr th:only-of-type {\n",
       "        vertical-align: middle;\n",
       "    }\n",
       "\n",
       "    .dataframe tbody tr th {\n",
       "        vertical-align: top;\n",
       "    }\n",
       "\n",
       "    .dataframe thead th {\n",
       "        text-align: right;\n",
       "    }\n",
       "</style>\n",
       "<table border=\"1\" class=\"dataframe\">\n",
       "  <thead>\n",
       "    <tr style=\"text-align: right;\">\n",
       "      <th></th>\n",
       "      <th>name</th>\n",
       "      <th>entity</th>\n",
       "    </tr>\n",
       "  </thead>\n",
       "  <tbody>\n",
       "    <tr>\n",
       "      <th>2</th>\n",
       "      <td>2003-02-11</td>\n",
       "      <td>DATE</td>\n",
       "    </tr>\n",
       "    <tr>\n",
       "      <th>3</th>\n",
       "      <td>2012</td>\n",
       "      <td>DATE</td>\n",
       "    </tr>\n",
       "  </tbody>\n",
       "</table>\n",
       "</div>"
      ],
      "text/plain": [
       "         name entity\n",
       "2  2003-02-11   DATE\n",
       "3        2012   DATE"
      ]
     },
     "execution_count": 76,
     "metadata": {},
     "output_type": "execute_result"
    }
   ],
   "source": []
  },
  {
   "cell_type": "code",
   "execution_count": 100,
   "id": "2ab024b3",
   "metadata": {},
   "outputs": [],
   "source": [
    "def extract_date(ns):\n",
    "    import re\n",
    "\n",
    "    dates_df = ns.entities.loc[ns.entities.entity == 'DATE']\n",
    "\n",
    "    date_series = dates_df.name.apply(lambda x: pd.to_datetime(re.sub('[A-Z]', '', x.upper())))\n",
    "    min_date_dt = date_series.min()\n",
    "    max_date_dt = date_series.max()\n",
    "\n",
    "    min_date = str(min_date_dt).split()[0]\n",
    "    max_date = str(max_date_dt).split()[0]\n",
    "\n",
    "    return (f'Min date: {min_date}\\nMax date: {max_date}')"
   ]
  },
  {
   "cell_type": "code",
   "execution_count": 101,
   "id": "ac9db419",
   "metadata": {},
   "outputs": [
    {
     "name": "stdout",
     "output_type": "stream",
     "text": [
      "Min date: 2003-02-11\n",
      "Max date: 2012-01-01\n"
     ]
    }
   ],
   "source": [
    "print(extract_date(ns))"
   ]
  },
  {
   "cell_type": "code",
   "execution_count": 117,
   "id": "69f3b48d",
   "metadata": {},
   "outputs": [],
   "source": [
    "urls = 'www.google.com.  www.columbia.edu  rtwillett.github.io'.lower()"
   ]
  },
  {
   "cell_type": "code",
   "execution_count": 124,
   "id": "5662705b",
   "metadata": {},
   "outputs": [
    {
     "data": {
      "text/plain": [
       "['www.google.com', 'edu']"
      ]
     },
     "execution_count": 124,
     "metadata": {},
     "output_type": "execute_result"
    }
   ],
   "source": [
    "[url for url in re.findall('[a-z0-9-_.]*\\.com|edu', urls) if url.strip() != '']"
   ]
  },
  {
   "cell_type": "code",
   "execution_count": null,
   "id": "dc603c6f",
   "metadata": {},
   "outputs": [],
   "source": []
  },
  {
   "cell_type": "code",
   "execution_count": 51,
   "id": "f48e4871",
   "metadata": {},
   "outputs": [
    {
     "data": {
      "text/plain": [
       "{'PERSON':            name  counts\n",
       " 0  Ryan Willett       1, 'ORG':                   name  counts\n",
       " 0  Columbia University       1, 'DATE':          name  counts\n",
       " 0  2003-01-01       1}"
      ]
     },
     "execution_count": 51,
     "metadata": {},
     "output_type": "execute_result"
    }
   ],
   "source": [
    "ns.ner_extracts"
   ]
  },
  {
   "cell_type": "code",
   "execution_count": 52,
   "id": "d6f1016b",
   "metadata": {},
   "outputs": [
    {
     "data": {
      "text/html": [
       "<div>\n",
       "<style scoped>\n",
       "    .dataframe tbody tr th:only-of-type {\n",
       "        vertical-align: middle;\n",
       "    }\n",
       "\n",
       "    .dataframe tbody tr th {\n",
       "        vertical-align: top;\n",
       "    }\n",
       "\n",
       "    .dataframe thead th {\n",
       "        text-align: right;\n",
       "    }\n",
       "</style>\n",
       "<table border=\"1\" class=\"dataframe\">\n",
       "  <thead>\n",
       "    <tr style=\"text-align: right;\">\n",
       "      <th></th>\n",
       "      <th>name</th>\n",
       "      <th>counts</th>\n",
       "    </tr>\n",
       "  </thead>\n",
       "  <tbody>\n",
       "    <tr>\n",
       "      <th>0</th>\n",
       "      <td>Ryan Willett</td>\n",
       "      <td>1</td>\n",
       "    </tr>\n",
       "  </tbody>\n",
       "</table>\n",
       "</div>"
      ],
      "text/plain": [
       "           name  counts\n",
       "0  Ryan Willett       1"
      ]
     },
     "execution_count": 52,
     "metadata": {},
     "output_type": "execute_result"
    }
   ],
   "source": [
    "ns.ner_extracts['PERSON']"
   ]
  },
  {
   "cell_type": "code",
   "execution_count": null,
   "id": "06349614",
   "metadata": {},
   "outputs": [],
   "source": []
  }
 ],
 "metadata": {
  "kernelspec": {
   "display_name": "Python 3",
   "language": "python",
   "name": "python3"
  },
  "language_info": {
   "codemirror_mode": {
    "name": "ipython",
    "version": 3
   },
   "file_extension": ".py",
   "mimetype": "text/x-python",
   "name": "python",
   "nbconvert_exporter": "python",
   "pygments_lexer": "ipython3",
   "version": "3.7.3"
  }
 },
 "nbformat": 4,
 "nbformat_minor": 5
}
