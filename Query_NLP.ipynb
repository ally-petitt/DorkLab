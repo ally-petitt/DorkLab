{
 "cells": [
  {
   "cell_type": "code",
   "execution_count": 1,
   "id": "a8da9dd5",
   "metadata": {},
   "outputs": [],
   "source": [
    "from modules.build_substring import NERDString"
   ]
  },
  {
   "cell_type": "code",
   "execution_count": 2,
   "id": "6410f816",
   "metadata": {},
   "outputs": [],
   "source": [
    "s = '''\n",
    "    scientist Ryan Willett who attended Columbia University  after 2003-02-11 pdf docx txt\n",
    "''' "
   ]
  },
  {
   "cell_type": "code",
   "execution_count": 3,
   "id": "9a1f5e45",
   "metadata": {},
   "outputs": [],
   "source": [
    "ns = NERDString(s)"
   ]
  },
  {
   "cell_type": "code",
   "execution_count": 4,
   "id": "3e68c334",
   "metadata": {},
   "outputs": [
    {
     "data": {
      "text/plain": [
       "\n",
       "    scientist Ryan Willett who attended Columbia University  after 2003-02-11 pdf docx txt"
      ]
     },
     "execution_count": 4,
     "metadata": {},
     "output_type": "execute_result"
    }
   ],
   "source": [
    "ns.doc"
   ]
  },
  {
   "cell_type": "code",
   "execution_count": 5,
   "id": "670fb409",
   "metadata": {},
   "outputs": [
    {
     "data": {
      "text/html": [
       "<div>\n",
       "<style scoped>\n",
       "    .dataframe tbody tr th:only-of-type {\n",
       "        vertical-align: middle;\n",
       "    }\n",
       "\n",
       "    .dataframe tbody tr th {\n",
       "        vertical-align: top;\n",
       "    }\n",
       "\n",
       "    .dataframe thead th {\n",
       "        text-align: right;\n",
       "    }\n",
       "</style>\n",
       "<table border=\"1\" class=\"dataframe\">\n",
       "  <thead>\n",
       "    <tr style=\"text-align: right;\">\n",
       "      <th></th>\n",
       "      <th>name</th>\n",
       "      <th>entity</th>\n",
       "    </tr>\n",
       "  </thead>\n",
       "  <tbody>\n",
       "    <tr>\n",
       "      <th>0</th>\n",
       "      <td>Ryan Willett</td>\n",
       "      <td>PERSON</td>\n",
       "    </tr>\n",
       "    <tr>\n",
       "      <th>1</th>\n",
       "      <td>Columbia University</td>\n",
       "      <td>ORG</td>\n",
       "    </tr>\n",
       "    <tr>\n",
       "      <th>2</th>\n",
       "      <td>2003-02-11</td>\n",
       "      <td>DATE</td>\n",
       "    </tr>\n",
       "  </tbody>\n",
       "</table>\n",
       "</div>"
      ],
      "text/plain": [
       "                  name  entity\n",
       "0         Ryan Willett  PERSON\n",
       "1  Columbia University     ORG\n",
       "2           2003-02-11    DATE"
      ]
     },
     "execution_count": 5,
     "metadata": {},
     "output_type": "execute_result"
    }
   ],
   "source": [
    "ns.entities"
   ]
  },
  {
   "cell_type": "code",
   "execution_count": 6,
   "id": "b10293d0",
   "metadata": {},
   "outputs": [
    {
     "data": {
      "text/plain": [
       "{'persons': ['Ryan Willett'],\n",
       " 'orgs': ['Columbia University'],\n",
       " 'gpe': [],\n",
       " 'min_date': '2003-02-11',\n",
       " 'max_date': '2003-02-11',\n",
       " 'urls': [],\n",
       " 'filetypes': ['pdf', ' docx', 'txt']}"
      ]
     },
     "execution_count": 6,
     "metadata": {},
     "output_type": "execute_result"
    }
   ],
   "source": [
    "ns.data"
   ]
  },
  {
   "cell_type": "code",
   "execution_count": 7,
   "id": "3324a422",
   "metadata": {},
   "outputs": [
    {
     "data": {
      "text/plain": [
       "'\\n    scientist Ryan Willett who attended Columbia University  after 2003-02-11 pdf docx txt\\n'"
      ]
     },
     "execution_count": 7,
     "metadata": {},
     "output_type": "execute_result"
    }
   ],
   "source": [
    "ns.text"
   ]
  },
  {
   "cell_type": "code",
   "execution_count": null,
   "id": "74fd3f69",
   "metadata": {},
   "outputs": [],
   "source": []
  },
  {
   "cell_type": "code",
   "execution_count": null,
   "id": "11ffcb12",
   "metadata": {},
   "outputs": [],
   "source": []
  },
  {
   "cell_type": "code",
   "execution_count": 8,
   "id": "31646137",
   "metadata": {},
   "outputs": [
    {
     "data": {
      "text/plain": [
       "{'end_date': '2023-01-30',\n",
       " 'filetypes': [],\n",
       " 'root_terms': ['Ryan Willett', ' Columbia University', ' scientist'],\n",
       " 'start_date': '2021-03-23'}"
      ]
     },
     "execution_count": 8,
     "metadata": {},
     "output_type": "execute_result"
    }
   ],
   "source": [
    "fromfrontend = {\n",
    "  \"end_date\": \"2023-01-30\",\n",
    "  \"filetypes\": [],\n",
    "  \"root_terms\": [\n",
    "    \"Ryan Willett\",\n",
    "    \" Columbia University\",\n",
    "    \" scientist\"\n",
    "  ],\n",
    "  \"start_date\": \"2021-03-23\"\n",
    "}\n",
    "fromfrontend"
   ]
  },
  {
   "cell_type": "code",
   "execution_count": 9,
   "id": "f1998ae0",
   "metadata": {},
   "outputs": [
    {
     "data": {
      "text/plain": [
       "'Ryan Willett  Columbia University  scientist'"
      ]
     },
     "execution_count": 9,
     "metadata": {},
     "output_type": "execute_result"
    }
   ],
   "source": [
    "roots = ' '.join(fromfrontend['root_terms'])\n",
    "roots"
   ]
  },
  {
   "cell_type": "code",
   "execution_count": 10,
   "id": "0442a444",
   "metadata": {},
   "outputs": [],
   "source": [
    "ns = NERDString(roots)"
   ]
  },
  {
   "cell_type": "code",
   "execution_count": 11,
   "id": "7b521483",
   "metadata": {},
   "outputs": [
    {
     "data": {
      "text/plain": [
       "{'persons': ['Ryan Willett'],\n",
       " 'orgs': ['Columbia University'],\n",
       " 'gpe': [],\n",
       " 'min_date': '',\n",
       " 'max_date': '',\n",
       " 'urls': [],\n",
       " 'filetypes': []}"
      ]
     },
     "execution_count": 11,
     "metadata": {},
     "output_type": "execute_result"
    }
   ],
   "source": [
    "ns.data"
   ]
  },
  {
   "cell_type": "code",
   "execution_count": 15,
   "id": "f9ab6fdf",
   "metadata": {},
   "outputs": [
    {
     "data": {
      "text/plain": [
       "['Ryan Willett']"
      ]
     },
     "execution_count": 15,
     "metadata": {},
     "output_type": "execute_result"
    }
   ],
   "source": [
    "ns.data['persons']"
   ]
  },
  {
   "cell_type": "code",
   "execution_count": 17,
   "id": "c9bcf1b2",
   "metadata": {},
   "outputs": [
    {
     "data": {
      "text/plain": [
       "[]"
      ]
     },
     "execution_count": 17,
     "metadata": {},
     "output_type": "execute_result"
    }
   ],
   "source": [
    "ns.data['gpe']"
   ]
  },
  {
   "cell_type": "code",
   "execution_count": null,
   "id": "7cdad0d3",
   "metadata": {},
   "outputs": [],
   "source": []
  }
 ],
 "metadata": {
  "kernelspec": {
   "display_name": "Python 3",
   "language": "python",
   "name": "python3"
  },
  "language_info": {
   "codemirror_mode": {
    "name": "ipython",
    "version": 3
   },
   "file_extension": ".py",
   "mimetype": "text/x-python",
   "name": "python",
   "nbconvert_exporter": "python",
   "pygments_lexer": "ipython3",
   "version": "3.7.3"
  }
 },
 "nbformat": 4,
 "nbformat_minor": 5
}
