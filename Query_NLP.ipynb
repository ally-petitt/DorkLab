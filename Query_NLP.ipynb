{
 "cells": [
  {
   "cell_type": "code",
   "execution_count": 1,
   "id": "1b76608a",
   "metadata": {},
   "outputs": [],
   "source": [
    "from modules.build_substring import NERDString"
   ]
  },
  {
   "cell_type": "code",
   "execution_count": 2,
   "id": "67127c41",
   "metadata": {},
   "outputs": [],
   "source": [
    "s = '''\n",
    "    scientist Ryan Willett who attended Columbia University  after 2003-02-11 pdf docx txt\n",
    "''' "
   ]
  },
  {
   "cell_type": "code",
   "execution_count": 3,
   "id": "6c562ba9",
   "metadata": {},
   "outputs": [],
   "source": [
    "ns = NERDString(s)"
   ]
  },
  {
   "cell_type": "code",
   "execution_count": 4,
   "id": "98950f51",
   "metadata": {},
   "outputs": [
    {
     "data": {
      "text/plain": [
       "\n",
       "    scientist Ryan Willett who attended Columbia University  after 2003-02-11 pdf docx txt"
      ]
     },
     "execution_count": 4,
     "metadata": {},
     "output_type": "execute_result"
    }
   ],
   "source": [
    "ns.doc"
   ]
  },
  {
   "cell_type": "code",
   "execution_count": 5,
   "id": "3cd13803",
   "metadata": {},
   "outputs": [
    {
     "data": {
      "text/html": [
       "<div>\n",
       "<style scoped>\n",
       "    .dataframe tbody tr th:only-of-type {\n",
       "        vertical-align: middle;\n",
       "    }\n",
       "\n",
       "    .dataframe tbody tr th {\n",
       "        vertical-align: top;\n",
       "    }\n",
       "\n",
       "    .dataframe thead th {\n",
       "        text-align: right;\n",
       "    }\n",
       "</style>\n",
       "<table border=\"1\" class=\"dataframe\">\n",
       "  <thead>\n",
       "    <tr style=\"text-align: right;\">\n",
       "      <th></th>\n",
       "      <th>name</th>\n",
       "      <th>entity</th>\n",
       "    </tr>\n",
       "  </thead>\n",
       "  <tbody>\n",
       "    <tr>\n",
       "      <th>0</th>\n",
       "      <td>Ryan Willett</td>\n",
       "      <td>PERSON</td>\n",
       "    </tr>\n",
       "    <tr>\n",
       "      <th>1</th>\n",
       "      <td>Columbia University</td>\n",
       "      <td>ORG</td>\n",
       "    </tr>\n",
       "    <tr>\n",
       "      <th>2</th>\n",
       "      <td>2003-02-11</td>\n",
       "      <td>DATE</td>\n",
       "    </tr>\n",
       "  </tbody>\n",
       "</table>\n",
       "</div>"
      ],
      "text/plain": [
       "                  name  entity\n",
       "0         Ryan Willett  PERSON\n",
       "1  Columbia University     ORG\n",
       "2           2003-02-11    DATE"
      ]
     },
     "execution_count": 5,
     "metadata": {},
     "output_type": "execute_result"
    }
   ],
   "source": [
    "ns.entities"
   ]
  },
  {
   "cell_type": "code",
   "execution_count": 6,
   "id": "ab51ee86",
   "metadata": {},
   "outputs": [
    {
     "data": {
      "text/plain": [
       "{'persons': ['Ryan Willett'],\n",
       " 'orgs': ['Columbia University'],\n",
       " 'gpe': [],\n",
       " 'min_date': '2003-02-11',\n",
       " 'max_date': '2003-02-11',\n",
       " 'urls': [],\n",
       " 'filetypes': ['pdf', ' docx', 'txt']}"
      ]
     },
     "execution_count": 6,
     "metadata": {},
     "output_type": "execute_result"
    }
   ],
   "source": [
    "ns.data"
   ]
  },
  {
   "cell_type": "code",
   "execution_count": 7,
   "id": "f868ab40",
   "metadata": {},
   "outputs": [
    {
     "data": {
      "text/plain": [
       "'\\n    scientist Ryan Willett who attended Columbia University  after 2003-02-11 pdf docx txt\\n'"
      ]
     },
     "execution_count": 7,
     "metadata": {},
     "output_type": "execute_result"
    }
   ],
   "source": [
    "ns.text"
   ]
  },
  {
   "cell_type": "code",
   "execution_count": null,
   "id": "56c07d02",
   "metadata": {},
   "outputs": [],
   "source": []
  },
  {
   "cell_type": "code",
   "execution_count": null,
   "id": "11839b8b",
   "metadata": {},
   "outputs": [],
   "source": []
  },
  {
   "cell_type": "code",
   "execution_count": 8,
   "id": "bf31ca26",
   "metadata": {},
   "outputs": [
    {
     "data": {
      "text/plain": [
       "{'end_date': '2023-01-30',\n",
       " 'filetypes': [],\n",
       " 'root_terms': ['Ryan Willett', ' Columbia University', ' scientist'],\n",
       " 'start_date': '2021-03-23'}"
      ]
     },
     "execution_count": 8,
     "metadata": {},
     "output_type": "execute_result"
    }
   ],
   "source": [
    "fromfrontend = {\n",
    "  \"end_date\": \"2023-01-30\",\n",
    "  \"filetypes\": [],\n",
    "  \"root_terms\": [\n",
    "    \"Ryan Willett\",\n",
    "    \" Columbia University\",\n",
    "    \" scientist\"\n",
    "  ],\n",
    "  \"start_date\": \"2021-03-23\"\n",
    "}\n",
    "fromfrontend"
   ]
  },
  {
   "cell_type": "code",
   "execution_count": 9,
   "id": "ffbb54a0",
   "metadata": {},
   "outputs": [
    {
     "data": {
      "text/plain": [
       "'Ryan Willett  Columbia University  scientist'"
      ]
     },
     "execution_count": 9,
     "metadata": {},
     "output_type": "execute_result"
    }
   ],
   "source": [
    "roots = ' '.join(fromfrontend['root_terms'])\n",
    "roots"
   ]
  },
  {
   "cell_type": "code",
   "execution_count": 10,
   "id": "ac1ed9d8",
   "metadata": {},
   "outputs": [],
   "source": [
    "ns = NERDString(roots)"
   ]
  },
  {
   "cell_type": "code",
   "execution_count": 11,
   "id": "9de2c0b1",
   "metadata": {},
   "outputs": [
    {
     "data": {
      "text/plain": [
       "{'persons': ['Ryan Willett'],\n",
       " 'orgs': ['Columbia University'],\n",
       " 'gpe': [],\n",
       " 'min_date': '',\n",
       " 'max_date': '',\n",
       " 'urls': [],\n",
       " 'filetypes': []}"
      ]
     },
     "execution_count": 11,
     "metadata": {},
     "output_type": "execute_result"
    }
   ],
   "source": [
    "ns.data"
   ]
  },
  {
   "cell_type": "code",
   "execution_count": 15,
   "id": "407ffed1",
   "metadata": {},
   "outputs": [
    {
     "data": {
      "text/plain": [
       "['Ryan Willett']"
      ]
     },
     "execution_count": 15,
     "metadata": {},
     "output_type": "execute_result"
    }
   ],
   "source": [
    "ns.data['persons']"
   ]
  },
  {
   "cell_type": "code",
   "execution_count": 17,
   "id": "d2ae8083",
   "metadata": {},
   "outputs": [
    {
     "data": {
      "text/plain": [
       "[]"
      ]
     },
     "execution_count": 17,
     "metadata": {},
     "output_type": "execute_result"
    }
   ],
   "source": [
    "ns.data['gpe']"
   ]
  },
  {
   "cell_type": "code",
   "execution_count": 18,
   "id": "29df92d2",
   "metadata": {},
   "outputs": [],
   "source": [
    "t = {\n",
    "  \"end_date\": \"\",\n",
    "  \"filetypes\": [\n",
    "    \"txt\"\n",
    "  ],\n",
    "  \"gpe\": [],\n",
    "  \"moreterms\": [\n",
    "    \"fraud\",\n",
    "    \"crime\",\n",
    "    \"judgement\",\n",
    "    \"fine\",\n",
    "    \"embezzlement\",\n",
    "    \"court\",\n",
    "    \"police\",\n",
    "    \"\",\n",
    "    \"test\"\n",
    "  ],\n",
    "  \"orgs\": [\n",
    "    \"Columbia University\"\n",
    "  ],\n",
    "  \"persons\": [\n",
    "    \"Ryan Willett\"\n",
    "  ],\n",
    "  \"root_terms\": [\n",
    "    \"Ryan Willett\",\n",
    "    \" Columbia University\"\n",
    "  ],\n",
    "  \"start_date\": \"2021-03-23\"\n",
    "}"
   ]
  },
  {
   "cell_type": "code",
   "execution_count": 23,
   "id": "a2f18f69",
   "metadata": {},
   "outputs": [
    {
     "data": {
      "text/plain": [
       "'intext:judgement & intext:fine & intext:fraud & intext:crime & intext:court & intext:test & intext:embezzlement & intext:police'"
      ]
     },
     "execution_count": 23,
     "metadata": {},
     "output_type": "execute_result"
    }
   ],
   "source": [
    "' & '.join({f'intext:{term}' for term in t['moreterms'] if term.strip() != ''})"
   ]
  },
  {
   "cell_type": "code",
   "execution_count": 24,
   "id": "200712a8",
   "metadata": {},
   "outputs": [
    {
     "data": {
      "text/plain": [
       "'Ryan Willett  Columbia University  scientist'"
      ]
     },
     "execution_count": 24,
     "metadata": {},
     "output_type": "execute_result"
    }
   ],
   "source": [
    "ns.text"
   ]
  },
  {
   "cell_type": "code",
   "execution_count": null,
   "id": "090a9076",
   "metadata": {},
   "outputs": [],
   "source": []
  }
 ],
 "metadata": {
  "kernelspec": {
   "display_name": "Python 3",
   "language": "python",
   "name": "python3"
  },
  "language_info": {
   "codemirror_mode": {
    "name": "ipython",
    "version": 3
   },
   "file_extension": ".py",
   "mimetype": "text/x-python",
   "name": "python",
   "nbconvert_exporter": "python",
   "pygments_lexer": "ipython3",
   "version": "3.7.3"
  }
 },
 "nbformat": 4,
 "nbformat_minor": 5
}
