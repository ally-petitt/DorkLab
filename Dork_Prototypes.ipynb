{
 "cells": [
  {
   "cell_type": "code",
   "execution_count": 1,
   "id": "2a7fd942",
   "metadata": {},
   "outputs": [],
   "source": [
    "import numpy as np\n",
    "import pandas as pd\n",
    "import re"
   ]
  },
  {
   "cell_type": "code",
   "execution_count": 2,
   "id": "aaecaee6",
   "metadata": {},
   "outputs": [],
   "source": [
    "from modules.build_substring import BuildSubstring"
   ]
  },
  {
   "cell_type": "markdown",
   "id": "93962f39",
   "metadata": {},
   "source": [
    "## Setup"
   ]
  },
  {
   "cell_type": "code",
   "execution_count": 3,
   "id": "43c410dc",
   "metadata": {},
   "outputs": [],
   "source": [
    "data_dict = dict()"
   ]
  },
  {
   "cell_type": "code",
   "execution_count": 4,
   "id": "c4340a6f",
   "metadata": {},
   "outputs": [],
   "source": [
    "root_terms = [\n",
    "    \"Ryan Willett\",\n",
    "    \"Scientist\"\n",
    "]\n",
    "\n",
    "start_date = \"2013-02-07\"\n",
    "end_date = \"2020-01-20\"\n",
    "\n",
    "locations = [\n",
    "    \"New York\"\n",
    "]\n",
    "\n",
    "filetypes = [\n",
    "    \"pdf\",\n",
    "    \"txt\"\n",
    "]"
   ]
  },
  {
   "cell_type": "code",
   "execution_count": 5,
   "id": "39596c30",
   "metadata": {},
   "outputs": [],
   "source": [
    "data_dict[\"root_terms\"] = root_terms\n",
    "data_dict[\"start_date\"] = start_date\n",
    "data_dict[\"end_date\"] = end_date\n",
    "data_dict[\"filetypes\"] = filetypes"
   ]
  },
  {
   "cell_type": "code",
   "execution_count": 6,
   "id": "be9d427c",
   "metadata": {},
   "outputs": [
    {
     "data": {
      "text/plain": [
       "{'root_terms': ['Ryan Willett', 'Scientist'],\n",
       " 'start_date': '2013-02-07',\n",
       " 'end_date': '2020-01-20',\n",
       " 'filetypes': ['pdf', 'txt']}"
      ]
     },
     "execution_count": 6,
     "metadata": {},
     "output_type": "execute_result"
    }
   ],
   "source": [
    "data_dict"
   ]
  },
  {
   "cell_type": "code",
   "execution_count": null,
   "id": "9f487142",
   "metadata": {},
   "outputs": [],
   "source": []
  },
  {
   "cell_type": "code",
   "execution_count": null,
   "id": "289126f6",
   "metadata": {},
   "outputs": [],
   "source": []
  },
  {
   "cell_type": "code",
   "execution_count": null,
   "id": "45c38229",
   "metadata": {},
   "outputs": [],
   "source": []
  },
  {
   "cell_type": "markdown",
   "id": "eda61437",
   "metadata": {},
   "source": []
  },
  {
   "cell_type": "markdown",
   "id": "9fb84157",
   "metadata": {},
   "source": [
    "# Class testing"
   ]
  },
  {
   "cell_type": "markdown",
   "id": "e6c1e62b",
   "metadata": {},
   "source": [
    "## String Composition"
   ]
  },
  {
   "cell_type": "code",
   "execution_count": 7,
   "id": "314b6522",
   "metadata": {},
   "outputs": [],
   "source": [
    "bs = BuildSubstring(data_dict)"
   ]
  },
  {
   "cell_type": "code",
   "execution_count": 8,
   "id": "23ca0506",
   "metadata": {},
   "outputs": [
    {
     "data": {
      "text/plain": [
       "{'root_terms': ['Ryan Willett', 'Scientist'],\n",
       " 'start_date': '2013-02-07',\n",
       " 'end_date': '2020-01-20',\n",
       " 'filetypes': ['pdf', 'txt']}"
      ]
     },
     "execution_count": 8,
     "metadata": {},
     "output_type": "execute_result"
    }
   ],
   "source": [
    "bs.data"
   ]
  },
  {
   "cell_type": "code",
   "execution_count": 9,
   "id": "22d29f81",
   "metadata": {},
   "outputs": [
    {
     "data": {
      "text/plain": [
       "['\"Ryan Willett\" & \"Scientist\"',\n",
       " 'after:2013-02-07 & before:2020-01-20',\n",
       " '(filetype:pdf | filetype:txt)']"
      ]
     },
     "execution_count": 9,
     "metadata": {},
     "output_type": "execute_result"
    }
   ],
   "source": [
    "bs.fragments"
   ]
  },
  {
   "cell_type": "code",
   "execution_count": 10,
   "id": "91f46056",
   "metadata": {},
   "outputs": [
    {
     "data": {
      "text/plain": [
       "'\"Ryan Willett\" & \"Scientist\" & after:2013-02-07 & before:2020-01-20 & (filetype:pdf | filetype:txt)'"
      ]
     },
     "execution_count": 10,
     "metadata": {},
     "output_type": "execute_result"
    }
   ],
   "source": [
    "bs.q"
   ]
  },
  {
   "cell_type": "code",
   "execution_count": null,
   "id": "97d43663",
   "metadata": {},
   "outputs": [],
   "source": []
  },
  {
   "cell_type": "code",
   "execution_count": null,
   "id": "08270e74",
   "metadata": {},
   "outputs": [],
   "source": []
  },
  {
   "cell_type": "markdown",
   "id": "2012aae1",
   "metadata": {},
   "source": [
    "## Nicknames"
   ]
  },
  {
   "cell_type": "code",
   "execution_count": null,
   "id": "5f82ac1f",
   "metadata": {},
   "outputs": [],
   "source": []
  }
 ],
 "metadata": {
  "kernelspec": {
   "display_name": "Python 3",
   "language": "python",
   "name": "python3"
  },
  "language_info": {
   "codemirror_mode": {
    "name": "ipython",
    "version": 3
   },
   "file_extension": ".py",
   "mimetype": "text/x-python",
   "name": "python",
   "nbconvert_exporter": "python",
   "pygments_lexer": "ipython3",
   "version": "3.7.3"
  },
  "vscode": {
   "interpreter": {
    "hash": "916dbcbb3f70747c44a77c7bcd40155683ae19c65e1c03b4aa3499c5328201f1"
   }
  }
 },
 "nbformat": 4,
 "nbformat_minor": 5
}
