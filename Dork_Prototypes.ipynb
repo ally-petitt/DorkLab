{
 "cells": [
  {
   "cell_type": "code",
   "execution_count": 1,
   "id": "f6c0e07e",
   "metadata": {},
   "outputs": [],
   "source": [
    "import numpy as np\n",
    "import pandas as pd\n",
    "import re"
   ]
  },
  {
   "cell_type": "code",
   "execution_count": null,
   "id": "b842a8d5",
   "metadata": {},
   "outputs": [],
   "source": [
    "from modules.build_substring import BuildSubstring"
   ]
  },
  {
   "cell_type": "markdown",
   "id": "16663b46",
   "metadata": {},
   "source": [
    "## Setup"
   ]
  },
  {
   "cell_type": "code",
   "execution_count": null,
   "id": "3cbee3d9",
   "metadata": {},
   "outputs": [],
   "source": [
    "data_dict = dict()"
   ]
  },
  {
   "cell_type": "code",
   "execution_count": null,
   "id": "6ca653e6",
   "metadata": {},
   "outputs": [],
   "source": [
    "root_terms = [\n",
    "    \"Ryan Willett\",\n",
    "    \"Scientist\"\n",
    "]\n",
    "\n",
    "start_date = \"2013-02-07\"\n",
    "end_date = \"2020-01-20\"\n",
    "\n",
    "locations = [\n",
    "    \"New York\"\n",
    "]\n",
    "\n",
    "filetypes = [\n",
    "    \"pdf\",\n",
    "    \"txt\"\n",
    "]"
   ]
  },
  {
   "cell_type": "code",
   "execution_count": null,
   "id": "f4cf480a",
   "metadata": {},
   "outputs": [],
   "source": [
    "data_dict[\"root_terms\"] = root_terms\n",
    "data_dict[\"start_date\"] = start_date\n",
    "data_dict[\"end_date\"] = end_date\n",
    "data_dict[\"filetypes\"] = filetypes"
   ]
  },
  {
   "cell_type": "code",
   "execution_count": null,
   "id": "a309d32e",
   "metadata": {},
   "outputs": [],
   "source": [
    "data_dict"
   ]
  },
  {
   "cell_type": "code",
   "execution_count": null,
   "id": "5a3008ca",
   "metadata": {},
   "outputs": [],
   "source": []
  },
  {
   "cell_type": "code",
   "execution_count": null,
   "id": "94781d48",
   "metadata": {},
   "outputs": [],
   "source": []
  },
  {
   "cell_type": "code",
   "execution_count": null,
   "id": "a53fc3b1",
   "metadata": {},
   "outputs": [],
   "source": []
  },
  {
   "cell_type": "markdown",
   "id": "2ca6b6be",
   "metadata": {},
   "source": []
  },
  {
   "cell_type": "markdown",
   "id": "95ddcf8c",
   "metadata": {},
   "source": [
    "# Class testing"
   ]
  },
  {
   "cell_type": "markdown",
   "id": "9c6a5a00",
   "metadata": {},
   "source": [
    "## String Composition"
   ]
  },
  {
   "cell_type": "code",
   "execution_count": 15,
   "id": "a28337c1",
   "metadata": {},
   "outputs": [],
   "source": [
    "bs = BuildSubstring(data_dict)"
   ]
  },
  {
   "cell_type": "code",
   "execution_count": 16,
   "id": "3e2e368c",
   "metadata": {},
   "outputs": [
    {
     "data": {
      "text/plain": [
       "{'root_terms': ['Ryan Willett', 'Scientist'],\n",
       " 'start_date': '2013-02-07',\n",
       " 'end_date': '2020-01-20',\n",
       " 'filetypes': ['pdf', 'txt']}"
      ]
     },
     "execution_count": 16,
     "metadata": {},
     "output_type": "execute_result"
    }
   ],
   "source": [
    "bs.data"
   ]
  },
  {
   "cell_type": "code",
   "execution_count": 17,
   "id": "def15693",
   "metadata": {},
   "outputs": [
    {
     "data": {
      "text/plain": [
       "['\"Ryan Willett\" & \"Scientist\"',\n",
       " 'after:2013-02-07 & before:2020-01-20',\n",
       " '(filetype:pdf | filetype:txt)']"
      ]
     },
     "execution_count": 17,
     "metadata": {},
     "output_type": "execute_result"
    }
   ],
   "source": [
    "bs.fragments"
   ]
  },
  {
   "cell_type": "code",
   "execution_count": 18,
   "id": "886c27b3",
   "metadata": {},
   "outputs": [
    {
     "data": {
      "text/plain": [
       "'\"Ryan Willett\" & \"Scientist\" & after:2013-02-07 & before:2020-01-20 & (filetype:pdf | filetype:txt)'"
      ]
     },
     "execution_count": 18,
     "metadata": {},
     "output_type": "execute_result"
    }
   ],
   "source": [
    "bs.q"
   ]
  },
  {
   "cell_type": "code",
   "execution_count": null,
   "id": "d6f43ad4",
   "metadata": {},
   "outputs": [],
   "source": [
    "bs.search"
   ]
  },
  {
   "cell_type": "code",
   "execution_count": null,
   "id": "42fe2d1b",
   "metadata": {},
   "outputs": [],
   "source": []
  },
  {
   "cell_type": "code",
   "execution_count": null,
   "id": "e082d1fc",
   "metadata": {},
   "outputs": [],
   "source": []
  },
  {
   "cell_type": "markdown",
   "id": "bc60a6d3",
   "metadata": {},
   "source": [
    "## Nicknames"
   ]
  },
  {
   "cell_type": "code",
   "execution_count": null,
   "id": "fd93ac59",
   "metadata": {},
   "outputs": [],
   "source": []
  }
 ],
 "metadata": {
  "kernelspec": {
   "display_name": "Python 3",
   "language": "python",
   "name": "python3"
  },
  "language_info": {
   "codemirror_mode": {
    "name": "ipython",
    "version": 3
   },
   "file_extension": ".py",
   "mimetype": "text/x-python",
   "name": "python",
   "nbconvert_exporter": "python",
   "pygments_lexer": "ipython3",
   "version": "3.7.3"
  },
  "vscode": {
   "interpreter": {
    "hash": "916dbcbb3f70747c44a77c7bcd40155683ae19c65e1c03b4aa3499c5328201f1"
   }
  }
 },
 "nbformat": 4,
 "nbformat_minor": 5
}
