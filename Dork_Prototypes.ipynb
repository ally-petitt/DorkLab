{
 "cells": [
  {
   "cell_type": "code",
   "execution_count": 1,
   "id": "11c2ee37",
   "metadata": {},
   "outputs": [],
   "source": [
    "import numpy as np\n",
    "import pandas as pd\n",
    "import re"
   ]
  },
  {
   "cell_type": "code",
   "execution_count": 2,
   "id": "36b02aea",
   "metadata": {},
   "outputs": [],
   "source": [
    "from modules.build_substring import BuildSubstring"
   ]
  },
  {
   "cell_type": "markdown",
   "id": "a8975e08",
   "metadata": {},
   "source": [
    "## Setup"
   ]
  },
  {
   "cell_type": "code",
   "execution_count": 3,
   "id": "f2bf0b9f",
   "metadata": {},
   "outputs": [],
   "source": [
    "data_dict = dict()"
   ]
  },
  {
   "cell_type": "code",
   "execution_count": 4,
   "id": "649fc658",
   "metadata": {},
   "outputs": [],
   "source": [
    "root_terms = [\n",
    "    \"Ryan Willett\",\n",
    "    \"Scientist\"\n",
    "]\n",
    "\n",
    "start_date = \"2013-02-07\"\n",
    "end_date = \"2020-01-20\"\n",
    "\n",
    "locations = [\n",
    "    \"New York\"\n",
    "]\n",
    "\n",
    "filetypes = [\n",
    "    \"pdf\",\n",
    "    \"txt\"\n",
    "]"
   ]
  },
  {
   "cell_type": "code",
   "execution_count": 11,
   "id": "fdce4752",
   "metadata": {},
   "outputs": [],
   "source": [
    "data_dict[\"root_terms\"] = root_terms\n",
    "data_dict[\"persons\"] = 'Ryan Willett'\n",
    "data_dict[\"start_date\"] = start_date\n",
    "data_dict[\"end_date\"] = end_date\n",
    "data_dict[\"filetypes\"] = filetypes"
   ]
  },
  {
   "cell_type": "code",
   "execution_count": 12,
   "id": "f150da7b",
   "metadata": {},
   "outputs": [
    {
     "data": {
      "text/plain": [
       "{'root_terms': ['Ryan Willett', 'Scientist'],\n",
       " 'start_date': '2013-02-07',\n",
       " 'end_date': '2020-01-20',\n",
       " 'filetypes': ['pdf', 'txt'],\n",
       " 'persons': 'Ryan Willett'}"
      ]
     },
     "execution_count": 12,
     "metadata": {},
     "output_type": "execute_result"
    }
   ],
   "source": [
    "data_dict"
   ]
  },
  {
   "cell_type": "code",
   "execution_count": null,
   "id": "781b442c",
   "metadata": {},
   "outputs": [],
   "source": []
  },
  {
   "cell_type": "code",
   "execution_count": null,
   "id": "925088c8",
   "metadata": {},
   "outputs": [],
   "source": []
  },
  {
   "cell_type": "code",
   "execution_count": null,
   "id": "8c1a561b",
   "metadata": {},
   "outputs": [],
   "source": []
  },
  {
   "cell_type": "markdown",
   "id": "de0788c0",
   "metadata": {},
   "source": []
  },
  {
   "cell_type": "markdown",
   "id": "20046a73",
   "metadata": {},
   "source": [
    "# Class testing"
   ]
  },
  {
   "cell_type": "markdown",
   "id": "3531e115",
   "metadata": {},
   "source": [
    "## String Composition"
   ]
  },
  {
   "cell_type": "code",
   "execution_count": 7,
   "id": "832b156d",
   "metadata": {},
   "outputs": [],
   "source": [
    "bs = BuildSubstring(data_dict)"
   ]
  },
  {
   "cell_type": "code",
   "execution_count": 8,
   "id": "2431abbe",
   "metadata": {},
   "outputs": [
    {
     "data": {
      "text/plain": [
       "{'root_terms': ['Ryan Willett', 'Scientist'],\n",
       " 'start_date': '2013-02-07',\n",
       " 'end_date': '2020-01-20',\n",
       " 'filetypes': ['pdf', 'txt']}"
      ]
     },
     "execution_count": 8,
     "metadata": {},
     "output_type": "execute_result"
    }
   ],
   "source": [
    "bs.data"
   ]
  },
  {
   "cell_type": "code",
   "execution_count": 9,
   "id": "ceffd7fb",
   "metadata": {},
   "outputs": [
    {
     "data": {
      "text/plain": [
       "['\"Ryan Willett\" & \"Scientist\"',\n",
       " 'after:2013-02-07 & before:2020-01-20',\n",
       " '(filetype:pdf | filetype:txt)']"
      ]
     },
     "execution_count": 9,
     "metadata": {},
     "output_type": "execute_result"
    }
   ],
   "source": [
    "bs.fragments"
   ]
  },
  {
   "cell_type": "code",
   "execution_count": 10,
   "id": "f7becc3c",
   "metadata": {},
   "outputs": [
    {
     "data": {
      "text/plain": [
       "'\"Ryan Willett\" & \"Scientist\" & after:2013-02-07 & before:2020-01-20 & (filetype:pdf | filetype:txt)'"
      ]
     },
     "execution_count": 10,
     "metadata": {},
     "output_type": "execute_result"
    }
   ],
   "source": [
    "bs.q"
   ]
  },
  {
   "cell_type": "code",
   "execution_count": null,
   "id": "62cd84a5",
   "metadata": {},
   "outputs": [],
   "source": []
  },
  {
   "cell_type": "code",
   "execution_count": null,
   "id": "890d98fa",
   "metadata": {},
   "outputs": [],
   "source": []
  },
  {
   "cell_type": "markdown",
   "id": "5f794dcc",
   "metadata": {},
   "source": [
    "## Nicknames"
   ]
  },
  {
   "cell_type": "code",
   "execution_count": null,
   "id": "d0459410",
   "metadata": {},
   "outputs": [],
   "source": []
  }
 ],
 "metadata": {
  "kernelspec": {
   "display_name": "Python 3",
   "language": "python",
   "name": "python3"
  },
  "language_info": {
   "codemirror_mode": {
    "name": "ipython",
    "version": 3
   },
   "file_extension": ".py",
   "mimetype": "text/x-python",
   "name": "python",
   "nbconvert_exporter": "python",
   "pygments_lexer": "ipython3",
   "version": "3.7.3"
  },
  "vscode": {
   "interpreter": {
    "hash": "916dbcbb3f70747c44a77c7bcd40155683ae19c65e1c03b4aa3499c5328201f1"
   }
  }
 },
 "nbformat": 4,
 "nbformat_minor": 5
}
