{
 "cells": [
  {
   "cell_type": "code",
   "execution_count": 1,
   "id": "9f098be5",
   "metadata": {},
   "outputs": [],
   "source": [
    "import numpy as np\n",
    "import pandas as pd\n",
    "import re"
   ]
  },
  {
   "cell_type": "code",
   "execution_count": 2,
   "id": "e81b57b9",
   "metadata": {},
   "outputs": [],
   "source": [
    "from modules.build_substring import BuildSubstringGoogle"
   ]
  },
  {
   "cell_type": "markdown",
   "id": "e692e2a9",
   "metadata": {},
   "source": [
    "## Setup"
   ]
  },
  {
   "cell_type": "code",
   "execution_count": 3,
   "id": "8c0dbb90",
   "metadata": {},
   "outputs": [],
   "source": [
    "data_dict = dict()"
   ]
  },
  {
   "cell_type": "code",
   "execution_count": 4,
   "id": "94732f89",
   "metadata": {},
   "outputs": [],
   "source": [
    "root_terms = [\n",
    "    \"Ryan Willett\",\n",
    "    \"Scientist\"\n",
    "]\n",
    "\n",
    "start_date = \"2013-02-07\"\n",
    "end_date = \"2020-01-20\"\n",
    "\n",
    "locations = [\n",
    "    \"New York\"\n",
    "]\n",
    "\n",
    "filetypes = [\n",
    "    \"pdf\",\n",
    "    \"txt\"\n",
    "]"
   ]
  },
  {
   "cell_type": "code",
   "execution_count": 29,
   "id": "7dc38e0d",
   "metadata": {},
   "outputs": [],
   "source": [
    "data_dict[\"root_terms\"] = root_terms\n",
    "data_dict[\"persons\"] = ['Ryan Willett']\n",
    "data_dict[\"orgs\"] = []\n",
    "data_dict[\"gpe\"] = []\n",
    "data_dict[\"start_date\"] = start_date\n",
    "data_dict[\"end_date\"] = end_date\n",
    "data_dict[\"filetypes\"] = filetypes\n",
    "data_dict[\"moreterms\"] = filetypes"
   ]
  },
  {
   "cell_type": "code",
   "execution_count": 30,
   "id": "5ce5fcea",
   "metadata": {},
   "outputs": [
    {
     "data": {
      "text/plain": [
       "{'root_terms': ['Ryan Willett', 'Scientist'],\n",
       " 'persons': ['Ryan Willett'],\n",
       " 'start_date': '2013-02-07',\n",
       " 'end_date': '2020-01-20',\n",
       " 'filetypes': ['pdf', 'txt'],\n",
       " 'orgs': [],\n",
       " 'gpe': [],\n",
       " 'moreterms': ['pdf', 'txt']}"
      ]
     },
     "execution_count": 30,
     "metadata": {},
     "output_type": "execute_result"
    }
   ],
   "source": [
    "data_dict"
   ]
  },
  {
   "cell_type": "code",
   "execution_count": null,
   "id": "d6eeb2d0",
   "metadata": {},
   "outputs": [],
   "source": []
  },
  {
   "cell_type": "code",
   "execution_count": null,
   "id": "2a6088e8",
   "metadata": {},
   "outputs": [],
   "source": []
  },
  {
   "cell_type": "markdown",
   "id": "60516b7f",
   "metadata": {},
   "source": []
  },
  {
   "cell_type": "markdown",
   "id": "f7bb6846",
   "metadata": {},
   "source": [
    "# Class testing"
   ]
  },
  {
   "cell_type": "markdown",
   "id": "6209545a",
   "metadata": {},
   "source": [
    "## String Composition"
   ]
  },
  {
   "cell_type": "code",
   "execution_count": 31,
   "id": "27e4c463",
   "metadata": {},
   "outputs": [],
   "source": [
    "bs = BuildSubstringGoogle(data_dict)"
   ]
  },
  {
   "cell_type": "code",
   "execution_count": 32,
   "id": "5c545a2a",
   "metadata": {},
   "outputs": [
    {
     "data": {
      "text/plain": [
       "{'root_terms': ['Ryan Willett', 'Scientist'],\n",
       " 'persons': ['Ryan Willett'],\n",
       " 'start_date': '2013-02-07',\n",
       " 'end_date': '2020-01-20',\n",
       " 'filetypes': ['pdf', 'txt'],\n",
       " 'orgs': [],\n",
       " 'gpe': [],\n",
       " 'moreterms': ['pdf', 'txt']}"
      ]
     },
     "execution_count": 32,
     "metadata": {},
     "output_type": "execute_result"
    }
   ],
   "source": [
    "bs.data"
   ]
  },
  {
   "cell_type": "code",
   "execution_count": 33,
   "id": "ad8b69e6",
   "metadata": {},
   "outputs": [
    {
     "data": {
      "text/plain": [
       "['(\"Ryan Willett\")', '()', '()']"
      ]
     },
     "execution_count": 33,
     "metadata": {},
     "output_type": "execute_result"
    }
   ],
   "source": [
    "bs.fragments"
   ]
  },
  {
   "cell_type": "code",
   "execution_count": 34,
   "id": "f3b1872f",
   "metadata": {},
   "outputs": [
    {
     "data": {
      "text/plain": [
       "'(\"Ryan Willett\") &  & intext:pdf intext:txtafter:2013-02-07 & before:2020-01-20filetype:pdf filetype:txt'"
      ]
     },
     "execution_count": 34,
     "metadata": {},
     "output_type": "execute_result"
    }
   ],
   "source": [
    "bs.q"
   ]
  },
  {
   "cell_type": "code",
   "execution_count": 37,
   "id": "93d04c8c",
   "metadata": {},
   "outputs": [
    {
     "data": {
      "text/plain": [
       "''"
      ]
     },
     "execution_count": 37,
     "metadata": {},
     "output_type": "execute_result"
    }
   ],
   "source": [
    "bs.or_logical_substring('orgs') "
   ]
  },
  {
   "cell_type": "code",
   "execution_count": null,
   "id": "61766a81",
   "metadata": {},
   "outputs": [],
   "source": []
  },
  {
   "cell_type": "markdown",
   "id": "8dc5a973",
   "metadata": {},
   "source": [
    "## Nicknames"
   ]
  },
  {
   "cell_type": "code",
   "execution_count": null,
   "id": "88c917f8",
   "metadata": {},
   "outputs": [],
   "source": []
  }
 ],
 "metadata": {
  "kernelspec": {
   "display_name": "Python 3",
   "language": "python",
   "name": "python3"
  },
  "language_info": {
   "codemirror_mode": {
    "name": "ipython",
    "version": 3
   },
   "file_extension": ".py",
   "mimetype": "text/x-python",
   "name": "python",
   "nbconvert_exporter": "python",
   "pygments_lexer": "ipython3",
   "version": "3.7.3"
  },
  "vscode": {
   "interpreter": {
    "hash": "916dbcbb3f70747c44a77c7bcd40155683ae19c65e1c03b4aa3499c5328201f1"
   }
  }
 },
 "nbformat": 4,
 "nbformat_minor": 5
}
