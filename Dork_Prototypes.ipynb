{
 "cells": [
  {
   "cell_type": "code",
   "execution_count": 1,
   "id": "40407c48",
   "metadata": {},
   "outputs": [],
   "source": [
    "import numpy as np\n",
    "import pandas as pd\n",
    "import re"
   ]
  },
  {
   "cell_type": "code",
   "execution_count": 2,
   "id": "f0148cce",
   "metadata": {},
   "outputs": [],
   "source": [
    "from modules.build_substring import BuildSubstring"
   ]
  },
  {
   "cell_type": "code",
   "execution_count": 3,
   "id": "c80ce6be",
   "metadata": {},
   "outputs": [],
   "source": [
    "data_dict = {\n",
    "    \"root_terms\": None\n",
    "}"
   ]
  },
  {
   "cell_type": "code",
   "execution_count": 4,
   "id": "df4ed9b7",
   "metadata": {},
   "outputs": [
    {
     "data": {
      "text/plain": [
       "{'root_terms': None}"
      ]
     },
     "execution_count": 4,
     "metadata": {},
     "output_type": "execute_result"
    }
   ],
   "source": [
    "data_dict"
   ]
  },
  {
   "cell_type": "code",
   "execution_count": 5,
   "id": "96acd207",
   "metadata": {},
   "outputs": [],
   "source": [
    "root_terms = [\n",
    "    \"Ryan Willett\"\n",
    "]\n",
    "\n",
    "start_date = \"2013-02-07\"\n",
    "end_date = \"2020-01-20\"\n",
    "\n",
    "locations = [\n",
    "    \"New York\"\n",
    "]\n",
    "\n",
    "filetypes = [\n",
    "    \"pdf\",\n",
    "    \"txt\"\n",
    "]"
   ]
  },
  {
   "cell_type": "code",
   "execution_count": 6,
   "id": "3c773af0",
   "metadata": {},
   "outputs": [],
   "source": [
    "data_dict[\"root_terms\"] = root_terms\n",
    "data_dict[\"start_date\"] = start_date\n",
    "data_dict[\"end_date\"] = end_date\n",
    "data_dict[\"filetypes\"] = filetypes"
   ]
  },
  {
   "cell_type": "code",
   "execution_count": null,
   "id": "ee6d566a",
   "metadata": {},
   "outputs": [],
   "source": []
  },
  {
   "cell_type": "code",
   "execution_count": null,
   "id": "27c238b2",
   "metadata": {},
   "outputs": [],
   "source": []
  },
  {
   "cell_type": "code",
   "execution_count": 7,
   "id": "680ac3b4",
   "metadata": {},
   "outputs": [
    {
     "data": {
      "text/plain": [
       "'(after:2013-02-07 before:2020-01-20)'"
      ]
     },
     "execution_count": 7,
     "metadata": {},
     "output_type": "execute_result"
    }
   ],
   "source": [
    "def build_date_substring(data):\n",
    "    \n",
    "    start_dt = data[\"start_date\"]\n",
    "    end_dt = data_dict[\"end_date\"]\n",
    "    \n",
    "    if start_dt != \"\" and end_dt != \"\":\n",
    "        return f'(after:{start_dt} before:{end_dt})'\n",
    "    elif start_dt == \"\" and end_dt != \"\":\n",
    "        return f'(before:{start_dt})'\n",
    "    elif start_dt != \"\" and end_dt == \"\":\n",
    "        return f'(after:{start_dt})'\n",
    "    elif start_dt == \"\" and end_dt == \"\":\n",
    "        return \"No date inputs\"\n",
    "    else: \n",
    "        print(\"Default\")\n",
    "        \n",
    "build_date_substring(data_dict)"
   ]
  },
  {
   "cell_type": "code",
   "execution_count": 8,
   "id": "9b7ce7d6",
   "metadata": {},
   "outputs": [
    {
     "data": {
      "text/plain": [
       "'(filetype:pdf OR filetype:txt)'"
      ]
     },
     "execution_count": 8,
     "metadata": {},
     "output_type": "execute_result"
    }
   ],
   "source": [
    "def build_filetype_substring(data):\n",
    "    \n",
    "    files = data['filetypes']\n",
    "    \n",
    "    ft_append = \" OR \".join([f'filetype:{f}' for f in files])\n",
    "\n",
    "    return f\"({ft_append})\"\n",
    "    \n",
    "build_filetype_substring(data_dict)"
   ]
  },
  {
   "cell_type": "code",
   "execution_count": 9,
   "id": "60921564",
   "metadata": {},
   "outputs": [
    {
     "data": {
      "text/plain": [
       "'(filetype:pdf OR filetype:txt) (after:2013-02-07 before:2020-01-20)'"
      ]
     },
     "execution_count": 9,
     "metadata": {},
     "output_type": "execute_result"
    }
   ],
   "source": [
    "f'{build_filetype_substring(data_dict)} {build_date_substring(data_dict)}'"
   ]
  },
  {
   "cell_type": "code",
   "execution_count": 10,
   "id": "7ce91e09",
   "metadata": {},
   "outputs": [
    {
     "data": {
      "text/plain": [
       "'Ryan Willett (after:2013-02-07) (before:2020-01-20) (filetype:pdf OR filetype:txt) '"
      ]
     },
     "execution_count": 10,
     "metadata": {},
     "output_type": "execute_result"
    }
   ],
   "source": [
    "bs = BuildSubstring()\n",
    "# bs.build_date_substring(data_dict)\n",
    "# bs.build_filetype_substring(data_dict)\n",
    "bs.build_full_string(data_dict)"
   ]
  },
  {
   "cell_type": "code",
   "execution_count": null,
   "id": "6a862364",
   "metadata": {},
   "outputs": [],
   "source": []
  }
 ],
 "metadata": {
  "kernelspec": {
   "display_name": "Python 3",
   "language": "python",
   "name": "python3"
  },
  "language_info": {
   "codemirror_mode": {
    "name": "ipython",
    "version": 3
   },
   "file_extension": ".py",
   "mimetype": "text/x-python",
   "name": "python",
   "nbconvert_exporter": "python",
   "pygments_lexer": "ipython3",
   "version": "3.7.3"
  }
 },
 "nbformat": 4,
 "nbformat_minor": 5
}
