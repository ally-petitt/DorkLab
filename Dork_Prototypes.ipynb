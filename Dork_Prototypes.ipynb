{
 "cells": [
  {
   "cell_type": "code",
   "execution_count": 1,
   "id": "e6a538d0",
   "metadata": {},
   "outputs": [],
   "source": [
    "import numpy as np\n",
    "import pandas as pd\n",
    "import re"
   ]
  },
  {
   "cell_type": "code",
   "execution_count": 2,
   "id": "d6117cfa",
   "metadata": {},
   "outputs": [],
   "source": [
    "from modules.build_substring import BuildSubstring"
   ]
  },
  {
   "cell_type": "markdown",
   "id": "e945e5f4",
   "metadata": {},
   "source": [
    "## Setup"
   ]
  },
  {
   "cell_type": "code",
   "execution_count": 3,
   "id": "d2438649",
   "metadata": {},
   "outputs": [
    {
     "data": {
      "text/plain": [
       "{'root_terms': None}"
      ]
     },
     "execution_count": 3,
     "metadata": {},
     "output_type": "execute_result"
    }
   ],
   "source": [
    "data_dict = {\n",
    "    \"root_terms\": None\n",
    "}\n",
    "data_dict"
   ]
  },
  {
   "cell_type": "markdown",
   "id": "c028f24c",
   "metadata": {},
   "source": []
  },
  {
   "cell_type": "code",
   "execution_count": 4,
   "id": "f7f79529",
   "metadata": {},
   "outputs": [],
   "source": [
    "root_terms = [\n",
    "    \"Ryan Willett\",\n",
    "    \"Scientist\"\n",
    "]\n",
    "\n",
    "start_date = \"2013-02-07\"\n",
    "end_date = \"2020-01-20\"\n",
    "\n",
    "locations = [\n",
    "    \"New York\"\n",
    "]\n",
    "\n",
    "filetypes = [\n",
    "    \"pdf\",\n",
    "    \"txt\"\n",
    "]"
   ]
  },
  {
   "cell_type": "code",
   "execution_count": 5,
   "id": "25de107b",
   "metadata": {},
   "outputs": [],
   "source": [
    "data_dict[\"root_terms\"] = root_terms\n",
    "data_dict[\"start_date\"] = start_date\n",
    "data_dict[\"end_date\"] = end_date\n",
    "data_dict[\"filetypes\"] = filetypes"
   ]
  },
  {
   "cell_type": "markdown",
   "id": "f0c703ef",
   "metadata": {},
   "source": []
  },
  {
   "cell_type": "markdown",
   "id": "bf9f0fb2",
   "metadata": {},
   "source": [
    "# Class testing"
   ]
  },
  {
   "cell_type": "markdown",
   "id": "30a2cbad",
   "metadata": {},
   "source": [
    "## String Composition"
   ]
  },
  {
   "cell_type": "code",
   "execution_count": 6,
   "id": "f2ee3362",
   "metadata": {},
   "outputs": [],
   "source": [
    "bs = BuildSubstring(data_dict)"
   ]
  },
  {
   "cell_type": "code",
   "execution_count": 7,
   "id": "685425c5",
   "metadata": {},
   "outputs": [
    {
     "data": {
      "text/plain": [
       "{'root_terms': ['Ryan Willett', 'Scientist'],\n",
       " 'start_date': '2013-02-07',\n",
       " 'end_date': '2020-01-20',\n",
       " 'filetypes': ['pdf', 'txt']}"
      ]
     },
     "execution_count": 7,
     "metadata": {},
     "output_type": "execute_result"
    }
   ],
   "source": [
    "bs.data"
   ]
  },
  {
   "cell_type": "code",
   "execution_count": 8,
   "id": "ab4b68c8",
   "metadata": {},
   "outputs": [
    {
     "data": {
      "text/plain": [
       "['\"Ryan Willett\" & \"Scientist\"',\n",
       " 'after:2013-02-07 & before:2020-01-20',\n",
       " '(filetype:pdf | filetype:txt)']"
      ]
     },
     "execution_count": 8,
     "metadata": {},
     "output_type": "execute_result"
    }
   ],
   "source": [
    "bs.fragments"
   ]
  },
  {
   "cell_type": "code",
   "execution_count": 9,
   "id": "2ebe7010",
   "metadata": {},
   "outputs": [
    {
     "data": {
      "text/plain": [
       "'\"Ryan Willett\" & \"Scientist\" & after:2013-02-07 & before:2020-01-20 & (filetype:pdf | filetype:txt)'"
      ]
     },
     "execution_count": 9,
     "metadata": {},
     "output_type": "execute_result"
    }
   ],
   "source": [
    "bs.q"
   ]
  },
  {
   "cell_type": "code",
   "execution_count": null,
   "id": "5094077b",
   "metadata": {},
   "outputs": [],
   "source": []
  },
  {
   "cell_type": "code",
   "execution_count": null,
   "id": "dcd6ec02",
   "metadata": {},
   "outputs": [],
   "source": []
  },
  {
   "cell_type": "code",
   "execution_count": null,
   "id": "94efc926",
   "metadata": {},
   "outputs": [],
   "source": []
  },
  {
   "cell_type": "markdown",
   "id": "eb2b67cb",
   "metadata": {},
   "source": [
    "## Nicknames"
   ]
  },
  {
   "cell_type": "code",
   "execution_count": null,
   "id": "41df3ae3",
   "metadata": {},
   "outputs": [],
   "source": []
  }
 ],
 "metadata": {
  "kernelspec": {
   "display_name": "Python 3",
   "language": "python",
   "name": "python3"
  },
  "language_info": {
   "codemirror_mode": {
    "name": "ipython",
    "version": 3
   },
   "file_extension": ".py",
   "mimetype": "text/x-python",
   "name": "python",
   "nbconvert_exporter": "python",
   "pygments_lexer": "ipython3",
   "version": "3.7.3"
  }
 },
 "nbformat": 4,
 "nbformat_minor": 5
}
